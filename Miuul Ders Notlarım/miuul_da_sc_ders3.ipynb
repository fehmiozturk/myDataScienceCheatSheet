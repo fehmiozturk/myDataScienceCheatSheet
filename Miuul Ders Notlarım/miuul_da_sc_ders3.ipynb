{
 "cells": [
  {
   "cell_type": "markdown",
   "id": "1402574f",
   "metadata": {},
   "source": [
    "# List Comprehensions"
   ]
  },
  {
   "cell_type": "code",
   "execution_count": 1,
   "id": "a9466169",
   "metadata": {},
   "outputs": [],
   "source": [
    "#Birden fazla kod ve satır gerektiren işlemleri tek bir satırda kolayca yapmamızı sağlayan yapılara comprehension yapıları denir"
   ]
  },
  {
   "cell_type": "code",
   "execution_count": 46,
   "id": "166c2905",
   "metadata": {},
   "outputs": [],
   "source": [
    "students= [\"John\",\"Mark\",\"Venessa\",\"Mariam\"]\n",
    "student_no = [\"John\",\"Venessa\"]"
   ]
  },
  {
   "cell_type": "code",
   "execution_count": 49,
   "id": "26592c61",
   "metadata": {},
   "outputs": [
    {
     "name": "stdout",
     "output_type": "stream",
     "text": [
      "JOHN\n",
      "mark\n",
      "VENESSA\n",
      "mariam\n"
     ]
    }
   ],
   "source": [
    "for i in students:\n",
    "    if i in student_no:\n",
    "        print(i.upper())\n",
    "        \n",
    "    else: \n",
    "        print(i.lower())\n",
    "        "
   ]
  },
  {
   "cell_type": "code",
   "execution_count": 54,
   "id": "82faa66e",
   "metadata": {},
   "outputs": [],
   "source": [
    "# Yukarıdaki işlemlerin list comprehensions hali aşağıdadır.\n",
    "a = [i.lower() if i in student_no else i.upper() for i in students]\n",
    "# if ve else birlikte kullanılıyorsa for comprehensionsın en sonunda kullanılır.\n",
    "#if tek başına kullanılacaksa if en sonda olarak yazılır."
   ]
  },
  {
   "cell_type": "code",
   "execution_count": 55,
   "id": "c82168d3",
   "metadata": {},
   "outputs": [
    {
     "name": "stdout",
     "output_type": "stream",
     "text": [
      "['john', 'MARK', 'venessa', 'MARIAM']\n"
     ]
    }
   ],
   "source": [
    "print(a)"
   ]
  },
  {
   "cell_type": "markdown",
   "id": "d9b085a1",
   "metadata": {},
   "source": [
    "# Dict Comprehensions"
   ]
  },
  {
   "cell_type": "code",
   "execution_count": 57,
   "id": "ebf65768",
   "metadata": {},
   "outputs": [],
   "source": [
    "dictionary = {\"a\":1,\n",
    "              \"b\":2,\n",
    "              \"c\":3,\n",
    "              \"d\":4}"
   ]
  },
  {
   "cell_type": "code",
   "execution_count": 61,
   "id": "13129184",
   "metadata": {},
   "outputs": [
    {
     "data": {
      "text/plain": [
       "dict_items([('a', 1), ('b', 2), ('c', 3), ('d', 4)])"
      ]
     },
     "execution_count": 61,
     "metadata": {},
     "output_type": "execute_result"
    }
   ],
   "source": [
    "dictionary.keys()\n",
    "dictionary.values()\n",
    "dictionary.items()"
   ]
  },
  {
   "cell_type": "code",
   "execution_count": 62,
   "id": "439e9d5f",
   "metadata": {},
   "outputs": [
    {
     "data": {
      "text/plain": [
       "{'a': 1, 'b': 4, 'c': 9, 'd': 16}"
      ]
     },
     "execution_count": 62,
     "metadata": {},
     "output_type": "execute_result"
    }
   ],
   "source": [
    "{k:v**2 for (k,v) in dictionary.items()}"
   ]
  },
  {
   "cell_type": "code",
   "execution_count": 63,
   "id": "d55b14ef",
   "metadata": {},
   "outputs": [
    {
     "data": {
      "text/plain": [
       "{'A': 1, 'B': 2, 'C': 3, 'D': 4}"
      ]
     },
     "execution_count": 63,
     "metadata": {},
     "output_type": "execute_result"
    }
   ],
   "source": [
    "{k.upper() : v for (k,v) in dictionary.items()}"
   ]
  },
  {
   "cell_type": "code",
   "execution_count": 64,
   "id": "72b0a519",
   "metadata": {},
   "outputs": [
    {
     "data": {
      "text/plain": [
       "{'A': 1, 'B': 4, 'C': 9, 'D': 16}"
      ]
     },
     "execution_count": 64,
     "metadata": {},
     "output_type": "execute_result"
    }
   ],
   "source": [
    "{k.upper() : v**2 for (k,v) in dictionary.items()}"
   ]
  },
  {
   "cell_type": "markdown",
   "id": "51443cc6",
   "metadata": {},
   "source": [
    "# Uygulama (Mülakat Sorusu)"
   ]
  },
  {
   "cell_type": "markdown",
   "id": "16a6af55",
   "metadata": {},
   "source": [
    "Amaç : Bir listedeki sayıların karesi alınarak bir sözlüğe eklenmek istemektedir.\n",
    "Key'ler aynı değerler , value'lar ise değiştirilmiş değerler olacak."
   ]
  },
  {
   "cell_type": "code",
   "execution_count": 72,
   "id": "7b4e6bdb",
   "metadata": {},
   "outputs": [],
   "source": [
    "numbers = range(10)\n",
    "new_dict = {}"
   ]
  },
  {
   "cell_type": "code",
   "execution_count": 73,
   "id": "22f8705d",
   "metadata": {},
   "outputs": [],
   "source": [
    "for n in numbers:\n",
    "    if n % 2 == 0:\n",
    "        new_dict[n] = n ** 2 \n",
    "        "
   ]
  },
  {
   "cell_type": "code",
   "execution_count": 74,
   "id": "32d8f265",
   "metadata": {},
   "outputs": [
    {
     "data": {
      "text/plain": [
       "{0: 0, 2: 4, 4: 16, 6: 36, 8: 64}"
      ]
     },
     "execution_count": 74,
     "metadata": {},
     "output_type": "execute_result"
    }
   ],
   "source": [
    "new_dict"
   ]
  },
  {
   "cell_type": "code",
   "execution_count": 79,
   "id": "2df1dab3",
   "metadata": {},
   "outputs": [
    {
     "data": {
      "text/plain": [
       "{0: 0, 2: 4, 4: 16, 6: 36, 8: 64}"
      ]
     },
     "execution_count": 79,
     "metadata": {},
     "output_type": "execute_result"
    }
   ],
   "source": [
    "{n: n**2 for n in numbers if n % 2 == 0}"
   ]
  },
  {
   "cell_type": "markdown",
   "id": "549adbad",
   "metadata": {},
   "source": [
    "# List - Dict Comprehensions Uygulama Soruları (1)"
   ]
  },
  {
   "cell_type": "markdown",
   "id": "95e8302d",
   "metadata": {},
   "source": [
    "Bir veri setindeki değişken isimlerini değiştirmek"
   ]
  },
  {
   "cell_type": "code",
   "execution_count": 115,
   "id": "360f128f",
   "metadata": {},
   "outputs": [],
   "source": [
    "import seaborn as sns\n"
   ]
  },
  {
   "cell_type": "code",
   "execution_count": 116,
   "id": "10029757",
   "metadata": {},
   "outputs": [],
   "source": [
    "df = sns.load_dataset(\"car_crashes\")\n",
    "l = []"
   ]
  },
  {
   "cell_type": "code",
   "execution_count": 111,
   "id": "658c7407",
   "metadata": {},
   "outputs": [
    {
     "data": {
      "text/html": [
       "<div>\n",
       "<style scoped>\n",
       "    .dataframe tbody tr th:only-of-type {\n",
       "        vertical-align: middle;\n",
       "    }\n",
       "\n",
       "    .dataframe tbody tr th {\n",
       "        vertical-align: top;\n",
       "    }\n",
       "\n",
       "    .dataframe thead th {\n",
       "        text-align: right;\n",
       "    }\n",
       "</style>\n",
       "<table border=\"1\" class=\"dataframe\">\n",
       "  <thead>\n",
       "    <tr style=\"text-align: right;\">\n",
       "      <th></th>\n",
       "      <th>total</th>\n",
       "      <th>speeding</th>\n",
       "      <th>alcohol</th>\n",
       "      <th>not_distracted</th>\n",
       "      <th>no_previous</th>\n",
       "      <th>ins_premium</th>\n",
       "      <th>ins_losses</th>\n",
       "      <th>abbrev</th>\n",
       "    </tr>\n",
       "  </thead>\n",
       "  <tbody>\n",
       "    <tr>\n",
       "      <th>0</th>\n",
       "      <td>18.8</td>\n",
       "      <td>7.332</td>\n",
       "      <td>5.640</td>\n",
       "      <td>18.048</td>\n",
       "      <td>15.040</td>\n",
       "      <td>784.55</td>\n",
       "      <td>145.08</td>\n",
       "      <td>AL</td>\n",
       "    </tr>\n",
       "    <tr>\n",
       "      <th>1</th>\n",
       "      <td>18.1</td>\n",
       "      <td>7.421</td>\n",
       "      <td>4.525</td>\n",
       "      <td>16.290</td>\n",
       "      <td>17.014</td>\n",
       "      <td>1053.48</td>\n",
       "      <td>133.93</td>\n",
       "      <td>AK</td>\n",
       "    </tr>\n",
       "    <tr>\n",
       "      <th>2</th>\n",
       "      <td>18.6</td>\n",
       "      <td>6.510</td>\n",
       "      <td>5.208</td>\n",
       "      <td>15.624</td>\n",
       "      <td>17.856</td>\n",
       "      <td>899.47</td>\n",
       "      <td>110.35</td>\n",
       "      <td>AZ</td>\n",
       "    </tr>\n",
       "    <tr>\n",
       "      <th>3</th>\n",
       "      <td>22.4</td>\n",
       "      <td>4.032</td>\n",
       "      <td>5.824</td>\n",
       "      <td>21.056</td>\n",
       "      <td>21.280</td>\n",
       "      <td>827.34</td>\n",
       "      <td>142.39</td>\n",
       "      <td>AR</td>\n",
       "    </tr>\n",
       "    <tr>\n",
       "      <th>4</th>\n",
       "      <td>12.0</td>\n",
       "      <td>4.200</td>\n",
       "      <td>3.360</td>\n",
       "      <td>10.920</td>\n",
       "      <td>10.680</td>\n",
       "      <td>878.41</td>\n",
       "      <td>165.63</td>\n",
       "      <td>CA</td>\n",
       "    </tr>\n",
       "  </tbody>\n",
       "</table>\n",
       "</div>"
      ],
      "text/plain": [
       "   total  speeding  alcohol  not_distracted  no_previous  ins_premium  \\\n",
       "0   18.8     7.332    5.640          18.048       15.040       784.55   \n",
       "1   18.1     7.421    4.525          16.290       17.014      1053.48   \n",
       "2   18.6     6.510    5.208          15.624       17.856       899.47   \n",
       "3   22.4     4.032    5.824          21.056       21.280       827.34   \n",
       "4   12.0     4.200    3.360          10.920       10.680       878.41   \n",
       "\n",
       "   ins_losses abbrev  \n",
       "0      145.08     AL  \n",
       "1      133.93     AK  \n",
       "2      110.35     AZ  \n",
       "3      142.39     AR  \n",
       "4      165.63     CA  "
      ]
     },
     "execution_count": 111,
     "metadata": {},
     "output_type": "execute_result"
    }
   ],
   "source": [
    "df.head()"
   ]
  },
  {
   "cell_type": "code",
   "execution_count": 103,
   "id": "507a4bad",
   "metadata": {},
   "outputs": [
    {
     "data": {
      "text/plain": [
       "Index(['total', 'speeding', 'alcohol', 'not_distracted', 'no_previous',\n",
       "       'ins_premium', 'ins_losses', 'abbrev'],\n",
       "      dtype='object')"
      ]
     },
     "execution_count": 103,
     "metadata": {},
     "output_type": "execute_result"
    }
   ],
   "source": [
    "df.columns"
   ]
  },
  {
   "cell_type": "code",
   "execution_count": 104,
   "id": "be185e86",
   "metadata": {},
   "outputs": [],
   "source": [
    "for col in df.columns:\n",
    "    l.append(col.upper())"
   ]
  },
  {
   "cell_type": "code",
   "execution_count": 106,
   "id": "d444ad11",
   "metadata": {},
   "outputs": [],
   "source": [
    "df.columns = l"
   ]
  },
  {
   "cell_type": "code",
   "execution_count": 107,
   "id": "57f5fcb4",
   "metadata": {},
   "outputs": [
    {
     "data": {
      "text/plain": [
       "Index(['TOTAL', 'SPEEDING', 'ALCOHOL', 'NOT_DISTRACTED', 'NO_PREVIOUS',\n",
       "       'INS_PREMIUM', 'INS_LOSSES', 'ABBREV'],\n",
       "      dtype='object')"
      ]
     },
     "execution_count": 107,
     "metadata": {},
     "output_type": "execute_result"
    }
   ],
   "source": [
    "df.columns"
   ]
  },
  {
   "cell_type": "code",
   "execution_count": 119,
   "id": "e3da60b3",
   "metadata": {},
   "outputs": [],
   "source": [
    "#comprehensions ile yazımı\n",
    "df.columns = [col.upper() for col in df.columns]"
   ]
  },
  {
   "cell_type": "code",
   "execution_count": 120,
   "id": "77e070d3",
   "metadata": {},
   "outputs": [
    {
     "data": {
      "text/plain": [
       "Index(['TOTAL', 'SPEEDING', 'ALCOHOL', 'NOT_DISTRACTED', 'NO_PREVIOUS',\n",
       "       'INS_PREMIUM', 'INS_LOSSES', 'ABBREV'],\n",
       "      dtype='object')"
      ]
     },
     "execution_count": 120,
     "metadata": {},
     "output_type": "execute_result"
    }
   ],
   "source": [
    "df.columns"
   ]
  },
  {
   "cell_type": "markdown",
   "id": "414e830b",
   "metadata": {},
   "source": [
    "# List - Dict Comprehensions Uygulama Soruları (2)"
   ]
  },
  {
   "cell_type": "markdown",
   "id": "7d471e88",
   "metadata": {},
   "source": [
    "İsminde \"INS\" olan değişkenlerin başına FLAG diğerlerine NO_FLAG eklemek istiyoruz."
   ]
  },
  {
   "cell_type": "code",
   "execution_count": 121,
   "id": "ee069930",
   "metadata": {},
   "outputs": [
    {
     "data": {
      "text/plain": [
       "['NO_FLAGTOTAL',\n",
       " 'NO_FLAGSPEEDING',\n",
       " 'NO_FLAGALCOHOL',\n",
       " 'NO_FLAGNOT_DISTRACTED',\n",
       " 'NO_FLAGNO_PREVIOUS',\n",
       " 'FLAG_INS_PREMIUM',\n",
       " 'FLAG_INS_LOSSES',\n",
       " 'NO_FLAGABBREV']"
      ]
     },
     "execution_count": 121,
     "metadata": {},
     "output_type": "execute_result"
    }
   ],
   "source": [
    "[\"FLAG_\" + col if \"INS\" in col else \"NO_FLAG\" + col  for col in df.columns]"
   ]
  },
  {
   "cell_type": "markdown",
   "id": "23860e56",
   "metadata": {},
   "source": [
    "# List - Dict Comprehensions Uygulama Soruları (3)"
   ]
  },
  {
   "cell_type": "markdown",
   "id": "c9133189",
   "metadata": {},
   "source": [
    "Amaç key'i string , value'si aşağıdaki gibi bir liste olan sözlük oluşturmak.\n",
    "Sadece sayısal değişkenler için yapmak istiyoruz. "
   ]
  },
  {
   "cell_type": "code",
   "execution_count": 155,
   "id": "a1ce81f2",
   "metadata": {},
   "outputs": [],
   "source": [
    " df = sns.load_dataset(\"car_crashes\")"
   ]
  },
  {
   "cell_type": "code",
   "execution_count": 156,
   "id": "26cf171d",
   "metadata": {},
   "outputs": [],
   "source": [
    "num_col = [col for col in df.columns if df[col].dtype != \"O\"]\n",
    "soz = {}\n",
    "agg_list = [\"mean\",\"min\",\"max\",\"sum\"]"
   ]
  },
  {
   "cell_type": "code",
   "execution_count": 161,
   "id": "54788b2a",
   "metadata": {},
   "outputs": [],
   "source": [
    "for col in num_col:\n",
    "    soz[col] = agg_list"
   ]
  },
  {
   "cell_type": "code",
   "execution_count": 162,
   "id": "3a5eb6d3",
   "metadata": {},
   "outputs": [
    {
     "name": "stdout",
     "output_type": "stream",
     "text": [
      "{'total': ['mean', 'min', 'max', 'sum'], 'speeding': ['mean', 'min', 'max', 'sum'], 'alcohol': ['mean', 'min', 'max', 'sum'], 'not_distracted': ['mean', 'min', 'max', 'sum'], 'no_previous': ['mean', 'min', 'max', 'sum'], 'ins_premium': ['mean', 'min', 'max', 'sum'], 'ins_losses': ['mean', 'min', 'max', 'sum']}\n"
     ]
    }
   ],
   "source": [
    "print(soz)"
   ]
  },
  {
   "cell_type": "code",
   "execution_count": 166,
   "id": "1a8833c8",
   "metadata": {},
   "outputs": [],
   "source": [
    "#Kısa yol(Comprehensions)\n",
    "new_dict = {col:agg_list for col in num_col}"
   ]
  },
  {
   "cell_type": "code",
   "execution_count": 167,
   "id": "186a329b",
   "metadata": {},
   "outputs": [
    {
     "data": {
      "text/html": [
       "<div>\n",
       "<style scoped>\n",
       "    .dataframe tbody tr th:only-of-type {\n",
       "        vertical-align: middle;\n",
       "    }\n",
       "\n",
       "    .dataframe tbody tr th {\n",
       "        vertical-align: top;\n",
       "    }\n",
       "\n",
       "    .dataframe thead th {\n",
       "        text-align: right;\n",
       "    }\n",
       "</style>\n",
       "<table border=\"1\" class=\"dataframe\">\n",
       "  <thead>\n",
       "    <tr style=\"text-align: right;\">\n",
       "      <th></th>\n",
       "      <th>total</th>\n",
       "      <th>speeding</th>\n",
       "      <th>alcohol</th>\n",
       "      <th>not_distracted</th>\n",
       "      <th>no_previous</th>\n",
       "      <th>ins_premium</th>\n",
       "      <th>ins_losses</th>\n",
       "    </tr>\n",
       "  </thead>\n",
       "  <tbody>\n",
       "    <tr>\n",
       "      <th>mean</th>\n",
       "      <td>15.790196</td>\n",
       "      <td>4.998196</td>\n",
       "      <td>4.886784</td>\n",
       "      <td>13.573176</td>\n",
       "      <td>14.004882</td>\n",
       "      <td>886.957647</td>\n",
       "      <td>134.493137</td>\n",
       "    </tr>\n",
       "    <tr>\n",
       "      <th>min</th>\n",
       "      <td>5.900000</td>\n",
       "      <td>1.792000</td>\n",
       "      <td>1.593000</td>\n",
       "      <td>1.760000</td>\n",
       "      <td>5.900000</td>\n",
       "      <td>641.960000</td>\n",
       "      <td>82.750000</td>\n",
       "    </tr>\n",
       "    <tr>\n",
       "      <th>max</th>\n",
       "      <td>23.900000</td>\n",
       "      <td>9.450000</td>\n",
       "      <td>10.038000</td>\n",
       "      <td>23.661000</td>\n",
       "      <td>21.280000</td>\n",
       "      <td>1301.520000</td>\n",
       "      <td>194.780000</td>\n",
       "    </tr>\n",
       "    <tr>\n",
       "      <th>sum</th>\n",
       "      <td>805.300000</td>\n",
       "      <td>254.908000</td>\n",
       "      <td>249.226000</td>\n",
       "      <td>692.232000</td>\n",
       "      <td>714.249000</td>\n",
       "      <td>45234.840000</td>\n",
       "      <td>6859.150000</td>\n",
       "    </tr>\n",
       "  </tbody>\n",
       "</table>\n",
       "</div>"
      ],
      "text/plain": [
       "           total    speeding     alcohol  not_distracted  no_previous  \\\n",
       "mean   15.790196    4.998196    4.886784       13.573176    14.004882   \n",
       "min     5.900000    1.792000    1.593000        1.760000     5.900000   \n",
       "max    23.900000    9.450000   10.038000       23.661000    21.280000   \n",
       "sum   805.300000  254.908000  249.226000      692.232000   714.249000   \n",
       "\n",
       "       ins_premium   ins_losses  \n",
       "mean    886.957647   134.493137  \n",
       "min     641.960000    82.750000  \n",
       "max    1301.520000   194.780000  \n",
       "sum   45234.840000  6859.150000  "
      ]
     },
     "execution_count": 167,
     "metadata": {},
     "output_type": "execute_result"
    }
   ],
   "source": [
    "df[num_col].agg(new_dict)"
   ]
  },
  {
   "cell_type": "code",
   "execution_count": null,
   "id": "a1780144",
   "metadata": {},
   "outputs": [],
   "source": []
  }
 ],
 "metadata": {
  "kernelspec": {
   "display_name": "Python 3 (ipykernel)",
   "language": "python",
   "name": "python3"
  },
  "language_info": {
   "codemirror_mode": {
    "name": "ipython",
    "version": 3
   },
   "file_extension": ".py",
   "mimetype": "text/x-python",
   "name": "python",
   "nbconvert_exporter": "python",
   "pygments_lexer": "ipython3",
   "version": "3.9.12"
  }
 },
 "nbformat": 4,
 "nbformat_minor": 5
}
