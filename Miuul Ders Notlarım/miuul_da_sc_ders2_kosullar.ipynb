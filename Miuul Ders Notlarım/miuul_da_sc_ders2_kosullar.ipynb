{
 "cells": [
  {
   "cell_type": "markdown",
   "id": "eef4a137",
   "metadata": {},
   "source": [
    "# Koşullar\n"
   ]
  },
  {
   "cell_type": "code",
   "execution_count": 4,
   "id": "b1976369",
   "metadata": {},
   "outputs": [
    {
     "data": {
      "text/plain": [
       "True"
      ]
     },
     "execution_count": 4,
     "metadata": {},
     "output_type": "execute_result"
    }
   ],
   "source": [
    "#True-False\n",
    "1==1\n"
   ]
  },
  {
   "cell_type": "code",
   "execution_count": 5,
   "id": "bb33a168",
   "metadata": {},
   "outputs": [
    {
     "data": {
      "text/plain": [
       "False"
      ]
     },
     "execution_count": 5,
     "metadata": {},
     "output_type": "execute_result"
    }
   ],
   "source": [
    "1==2"
   ]
  },
  {
   "cell_type": "code",
   "execution_count": 6,
   "id": "46781e6d",
   "metadata": {},
   "outputs": [],
   "source": [
    "#if-else-elif"
   ]
  },
  {
   "cell_type": "code",
   "execution_count": 16,
   "id": "19f3ff4c",
   "metadata": {},
   "outputs": [],
   "source": [
    "def number_check(x):\n",
    "    if x > 10:\n",
    "        print(\"Sayı 10 dan büyük\")\n",
    "    elif x == 10:\n",
    "        print(\"Sayı 10 a eşit\")\n",
    "    else:\n",
    "        print(\"Sayı 10 dan kücük\")"
   ]
  },
  {
   "cell_type": "code",
   "execution_count": 19,
   "id": "10ac9fa2",
   "metadata": {},
   "outputs": [
    {
     "name": "stdout",
     "output_type": "stream",
     "text": [
      "Sayı 10 dan büyük\n"
     ]
    }
   ],
   "source": [
    "x = 11\n",
    "number_check(x)"
   ]
  },
  {
   "cell_type": "markdown",
   "id": "95f44fbf",
   "metadata": {},
   "source": [
    "# Döngüler "
   ]
  },
  {
   "cell_type": "code",
   "execution_count": 20,
   "id": "b1d9185b",
   "metadata": {},
   "outputs": [],
   "source": [
    "# for loop"
   ]
  },
  {
   "cell_type": "code",
   "execution_count": 25,
   "id": "c363bd72",
   "metadata": {},
   "outputs": [
    {
     "name": "stdout",
     "output_type": "stream",
     "text": [
      "FEHMI\n",
      "TUNCER\n",
      "ÖZTÜRK\n",
      "MEKATRONIK\n",
      "MÜHENDISLIĞI\n"
     ]
    }
   ],
   "source": [
    "list = [\"Fehmi\",\"Tuncer\",\"Öztürk\",\"Mekatronik\",\"Mühendisliği\"]\n",
    "for i in list:\n",
    "    print(i.upper())"
   ]
  },
  {
   "cell_type": "code",
   "execution_count": 36,
   "id": "0a1e4ee9",
   "metadata": {},
   "outputs": [],
   "source": [
    "def yeni_maas(oran):\n",
    "    return int(i+(i*oran))"
   ]
  },
  {
   "cell_type": "code",
   "execution_count": 38,
   "id": "79c92f6b",
   "metadata": {},
   "outputs": [
    {
     "name": "stdout",
     "output_type": "stream",
     "text": [
      "1500\n",
      "3000\n",
      "5250\n",
      "5880\n",
      "13500\n",
      "15210\n"
     ]
    }
   ],
   "source": [
    "liste = [1000,2000,3500,4200,7500,8450]\n",
    "for i in liste:\n",
    "    if i < 4000:\n",
    "        print(yeni_maas(0.5))\n",
    "    elif i==4200:\n",
    "        print(yeni_maas(0.4))\n",
    "    else:\n",
    "        print(yeni_maas(0.8))\n"
   ]
  },
  {
   "cell_type": "code",
   "execution_count": 39,
   "id": "211e96e1",
   "metadata": {},
   "outputs": [],
   "source": [
    "# girilen bir metnin tek indexlerini büyüt çift indexlerini küçült ve ekrana yazdır."
   ]
  },
  {
   "cell_type": "code",
   "execution_count": 54,
   "id": "ed2baca9",
   "metadata": {},
   "outputs": [],
   "source": [
    "def ayarla(string):\n",
    "    new_string=\"\"\n",
    "    for index in range(len(string)):\n",
    "        if index % 2 == 0:\n",
    "            new_string+=string[index].upper()\n",
    "        else:\n",
    "            new_string+=string[index].lower()\n",
    "    print(new_string)\n",
    "            "
   ]
  },
  {
   "cell_type": "code",
   "execution_count": 55,
   "id": "a3cbf53f",
   "metadata": {},
   "outputs": [
    {
     "name": "stdout",
     "output_type": "stream",
     "text": [
      "FeHmI TuNcEr öZtÜrK\n",
      "None\n"
     ]
    }
   ],
   "source": [
    "print(ayarla(\"fehmi tuncer öztürk\")) "
   ]
  },
  {
   "cell_type": "markdown",
   "id": "ea1fbde2",
   "metadata": {},
   "source": [
    "# Break - Continue - While"
   ]
  },
  {
   "cell_type": "code",
   "execution_count": 62,
   "id": "3ab22f4d",
   "metadata": {},
   "outputs": [
    {
     "name": "stdout",
     "output_type": "stream",
     "text": [
      "1200\n",
      "2100\n"
     ]
    }
   ],
   "source": [
    "salary = [1200,2100,5200,3300,1750]\n",
    "for i in salary:\n",
    "    if i == 5200:\n",
    "        break\n",
    "    print(i)\n"
   ]
  },
  {
   "cell_type": "code",
   "execution_count": 63,
   "id": "5489736d",
   "metadata": {},
   "outputs": [
    {
     "name": "stdout",
     "output_type": "stream",
     "text": [
      "1200\n",
      "2100\n",
      "3300\n",
      "1750\n"
     ]
    }
   ],
   "source": [
    "salary = [1200,2100,5200,3300,1750]\n",
    "for i in salary:\n",
    "    \n",
    "    if i == 5200:\n",
    "        continue\n",
    "    print(i)"
   ]
  },
  {
   "cell_type": "code",
   "execution_count": 64,
   "id": "d61bf1fa",
   "metadata": {},
   "outputs": [
    {
     "name": "stdout",
     "output_type": "stream",
     "text": [
      "1\n",
      "2\n",
      "3\n",
      "4\n"
     ]
    }
   ],
   "source": [
    "a = 1\n",
    "while a < 5:\n",
    "    print(a)\n",
    "    a = a+1"
   ]
  },
  {
   "cell_type": "markdown",
   "id": "f42c6c75",
   "metadata": {},
   "source": [
    "# Zip"
   ]
  },
  {
   "cell_type": "code",
   "execution_count": 65,
   "id": "2ca3a084",
   "metadata": {},
   "outputs": [],
   "source": [
    "# ayrı listeleri tek liste haline getirerek her ayrı row için sırayla tuple formatında verir."
   ]
  },
  {
   "cell_type": "code",
   "execution_count": 66,
   "id": "4e2240e4",
   "metadata": {},
   "outputs": [],
   "source": [
    "isimler = [\"Fehmi\",\"Tuncer\",\"Öztürk\"]\n",
    "meslekler = [\"Mekatronik\",\"Data Scientist\",\"Yazılımcı\"]\n",
    "yas = [24,56,62]"
   ]
  },
  {
   "cell_type": "code",
   "execution_count": 72,
   "id": "a66b32c7",
   "metadata": {},
   "outputs": [
    {
     "name": "stdout",
     "output_type": "stream",
     "text": [
      "('Fehmi', 'Mekatronik', 24) ('Tuncer', 'Data Scientist', 56) ('Öztürk', 'Yazılımcı', 62)\n"
     ]
    }
   ],
   "source": [
    "print(*zip(isimler,meslekler,yas))"
   ]
  },
  {
   "cell_type": "markdown",
   "id": "a8b84d60",
   "metadata": {},
   "source": [
    "# Lambda - Map - Filter - Reduce"
   ]
  },
  {
   "cell_type": "code",
   "execution_count": 73,
   "id": "ba7bc6e1",
   "metadata": {},
   "outputs": [],
   "source": [
    "#lambda def ile aynı işi yapar. Ancak lambda kullan at fonksiyon olduğu için tek seferlik kullanılır. deften farkı budur.\n"
   ]
  },
  {
   "cell_type": "code",
   "execution_count": 74,
   "id": "b3be0897",
   "metadata": {},
   "outputs": [
    {
     "data": {
      "text/plain": [
       "9"
      ]
     },
     "execution_count": 74,
     "metadata": {},
     "output_type": "execute_result"
    }
   ],
   "source": [
    "new_sum = lambda a , b : a + b\n",
    "new_sum(5,4)"
   ]
  },
  {
   "cell_type": "code",
   "execution_count": 75,
   "id": "c3f3c1b7",
   "metadata": {},
   "outputs": [],
   "source": [
    "#map döngü yazımından tasarruf ederek verilen iki parametreyi döngü içine sokar."
   ]
  },
  {
   "cell_type": "code",
   "execution_count": 77,
   "id": "666776a2",
   "metadata": {},
   "outputs": [
    {
     "name": "stdout",
     "output_type": "stream",
     "text": [
      "1500\n",
      "3000\n",
      "5250\n",
      "5880\n",
      "13500\n",
      "15210\n"
     ]
    }
   ],
   "source": [
    "liste = [1000,2000,3500,4200,7500,8450]\n",
    "def yeni_maas(oran):\n",
    "    return int(i+(i*oran))\n",
    "\n",
    "for i in liste:\n",
    "    if i < 4000:\n",
    "        print(yeni_maas(0.5))\n",
    "    elif i==4200:\n",
    "        print(yeni_maas(0.4))\n",
    "    else:\n",
    "        print(yeni_maas(0.8))"
   ]
  },
  {
   "cell_type": "code",
   "execution_count": 81,
   "id": "490741fc",
   "metadata": {},
   "outputs": [
    {
     "name": "stdout",
     "output_type": "stream",
     "text": [
      "8458450 16908450 29583450 35498450 63383450 71410950\n"
     ]
    }
   ],
   "source": [
    "print(*map(yeni_maas,liste))"
   ]
  },
  {
   "cell_type": "code",
   "execution_count": null,
   "id": "be9ba83a",
   "metadata": {},
   "outputs": [],
   "source": []
  }
 ],
 "metadata": {
  "kernelspec": {
   "display_name": "Python 3 (ipykernel)",
   "language": "python",
   "name": "python3"
  },
  "language_info": {
   "codemirror_mode": {
    "name": "ipython",
    "version": 3
   },
   "file_extension": ".py",
   "mimetype": "text/x-python",
   "name": "python",
   "nbconvert_exporter": "python",
   "pygments_lexer": "ipython3",
   "version": "3.9.12"
  }
 },
 "nbformat": 4,
 "nbformat_minor": 5
}
