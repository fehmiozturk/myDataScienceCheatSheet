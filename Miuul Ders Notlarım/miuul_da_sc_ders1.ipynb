{
 "cells": [
  {
   "cell_type": "code",
   "execution_count": 2,
   "id": "2845a50e",
   "metadata": {},
   "outputs": [
    {
     "data": {
      "text/plain": [
       "17"
      ]
     },
     "execution_count": 2,
     "metadata": {},
     "output_type": "execute_result"
    }
   ],
   "source": [
    "len(\"Fehmi Tuncer Öztürk\")"
   ]
  },
  {
   "cell_type": "code",
   "execution_count": 3,
   "id": "1162070c",
   "metadata": {},
   "outputs": [],
   "source": [
    "list = [1,2,9,45,52,82,1999]"
   ]
  },
  {
   "cell_type": "code",
   "execution_count": 6,
   "id": "e7fe8ccc",
   "metadata": {},
   "outputs": [],
   "source": [
    "list.append(102)"
   ]
  },
  {
   "cell_type": "code",
   "execution_count": 7,
   "id": "64047fdf",
   "metadata": {},
   "outputs": [
    {
     "data": {
      "text/plain": [
       "[1, 2, 9, 45, 52, 82, 1999, 102]"
      ]
     },
     "execution_count": 7,
     "metadata": {},
     "output_type": "execute_result"
    }
   ],
   "source": [
    "list"
   ]
  },
  {
   "cell_type": "code",
   "execution_count": 8,
   "id": "c185ea43",
   "metadata": {},
   "outputs": [],
   "source": [
    "#sözlükler(Dictionary)\n",
    "#key-value"
   ]
  },
  {
   "cell_type": "code",
   "execution_count": 9,
   "id": "e8eecf11",
   "metadata": {},
   "outputs": [],
   "source": [
    "dictionary = {\"REG\" : \"Regression\",\n",
    "              \"LOG\" : \"Logistic Regression\",\n",
    "              \"CART\" : \"Classification and Regression\"}"
   ]
  },
  {
   "cell_type": "code",
   "execution_count": 11,
   "id": "f2db6a72",
   "metadata": {},
   "outputs": [
    {
     "data": {
      "text/plain": [
       "'Classification and Regression'"
      ]
     },
     "execution_count": 11,
     "metadata": {},
     "output_type": "execute_result"
    }
   ],
   "source": [
    "dictionary[\"CART\"]"
   ]
  },
  {
   "cell_type": "code",
   "execution_count": 14,
   "id": "309a82a5",
   "metadata": {},
   "outputs": [
    {
     "data": {
      "text/plain": [
       "False"
      ]
     },
     "execution_count": 14,
     "metadata": {},
     "output_type": "execute_result"
    }
   ],
   "source": [
    "\"Regression\" in dictionary"
   ]
  },
  {
   "cell_type": "markdown",
   "id": "19dc99a1",
   "metadata": {},
   "source": [
    "# Fonksiyonlar"
   ]
  },
  {
   "cell_type": "markdown",
   "id": "52bae276",
   "metadata": {},
   "source": [
    "### Fonksiyon Tanımlama"
   ]
  },
  {
   "cell_type": "code",
   "execution_count": 15,
   "id": "64d32296",
   "metadata": {},
   "outputs": [],
   "source": [
    "def calculate(x):\n",
    "    print(x*2)"
   ]
  },
  {
   "cell_type": "code",
   "execution_count": 16,
   "id": "73757b01",
   "metadata": {},
   "outputs": [
    {
     "name": "stdout",
     "output_type": "stream",
     "text": [
      "4\n"
     ]
    }
   ],
   "source": [
    "calculate(2)"
   ]
  },
  {
   "cell_type": "code",
   "execution_count": 17,
   "id": "7a12ddc3",
   "metadata": {},
   "outputs": [],
   "source": [
    "#İki argümanlı/parametreli bir fonksiyon tanımlayalım\n",
    "def summer(arg1,arg2):\n",
    "    print(arg1+arg2)\n",
    "    "
   ]
  },
  {
   "cell_type": "code",
   "execution_count": 18,
   "id": "53c5c777",
   "metadata": {},
   "outputs": [
    {
     "name": "stdout",
     "output_type": "stream",
     "text": [
      "13\n"
     ]
    }
   ],
   "source": [
    "summer(8,5)"
   ]
  },
  {
   "cell_type": "markdown",
   "id": "36ade535",
   "metadata": {},
   "source": [
    "### Docstring"
   ]
  },
  {
   "cell_type": "markdown",
   "id": "201adea2",
   "metadata": {},
   "source": [
    "def yazıldıktan sonra bir alt satıra gelinip 3 defa \"\" yapılır ve enter a basılır. ve açıklama yazılır.\n",
    "docstring yazılmış bir fonksiyonun başkaları tarafından da kullanılırken açıklama çıkmasına yarar."
   ]
  },
  {
   "cell_type": "markdown",
   "id": "7ced5aef",
   "metadata": {},
   "source": [
    "### Fonksiyonların Statement/Body Bölümü\n"
   ]
  },
  {
   "cell_type": "code",
   "execution_count": 19,
   "id": "08eb03cf",
   "metadata": {},
   "outputs": [],
   "source": [
    "#def function_name(parameters/arguements bölümü):\n",
    "#        statements(function body bölümü)"
   ]
  },
  {
   "cell_type": "code",
   "execution_count": null,
   "id": "330af54e",
   "metadata": {},
   "outputs": [],
   "source": []
  }
 ],
 "metadata": {
  "kernelspec": {
   "display_name": "Python 3 (ipykernel)",
   "language": "python",
   "name": "python3"
  },
  "language_info": {
   "codemirror_mode": {
    "name": "ipython",
    "version": 3
   },
   "file_extension": ".py",
   "mimetype": "text/x-python",
   "name": "python",
   "nbconvert_exporter": "python",
   "pygments_lexer": "ipython3",
   "version": "3.9.12"
  }
 },
 "nbformat": 4,
 "nbformat_minor": 5
}
